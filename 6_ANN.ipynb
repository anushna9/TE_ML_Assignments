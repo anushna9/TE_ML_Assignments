{
  "nbformat": 4,
  "nbformat_minor": 0,
  "metadata": {
    "colab": {
      "provenance": [],
      "authorship_tag": "ABX9TyNbRrBAc1pvrpwa6Zl6XQJc",
      "include_colab_link": true
    },
    "kernelspec": {
      "name": "python3",
      "display_name": "Python 3"
    },
    "language_info": {
      "name": "python"
    }
  },
  "cells": [
    {
      "cell_type": "markdown",
      "metadata": {
        "id": "view-in-github",
        "colab_type": "text"
      },
      "source": [
        "<a href=\"https://colab.research.google.com/github/anushna9/TE_ML_Assignments/blob/main/6_ANN.ipynb\" target=\"_parent\"><img src=\"https://colab.research.google.com/assets/colab-badge.svg\" alt=\"Open In Colab\"/></a>"
      ]
    },
    {
      "cell_type": "code",
      "execution_count": null,
      "metadata": {
        "id": "u-XEv_NwBcRr",
        "colab": {
          "base_uri": "https://localhost:8080/"
        },
        "outputId": "7ae744b0-6780-4290-90d6-6046f3d607d5"
      },
      "outputs": [
        {
          "output_type": "stream",
          "name": "stdout",
          "text": [
            "Collecting ann_visualizer\n",
            "  Downloading ann_visualizer-2.5.tar.gz (4.7 kB)\n",
            "  Preparing metadata (setup.py) ... \u001b[?25l\u001b[?25hdone\n",
            "Building wheels for collected packages: ann_visualizer\n",
            "  Building wheel for ann_visualizer (setup.py) ... \u001b[?25l\u001b[?25hdone\n",
            "  Created wheel for ann_visualizer: filename=ann_visualizer-2.5-py3-none-any.whl size=4168 sha256=774bafbe77c95f663fb103724f1fe573265ac196bec097df2c6e780ecac76e2b\n",
            "  Stored in directory: /root/.cache/pip/wheels/6e/0f/ae/f5dba91db71b1b32bf03d0ad18c32e86126093aba5ec6b6488\n",
            "Successfully built ann_visualizer\n",
            "Installing collected packages: ann_visualizer\n",
            "Successfully installed ann_visualizer-2.5\n",
            "\u001b[31mERROR: Could not find a version that satisfies the requirement graphiz (from versions: none)\u001b[0m\u001b[31m\n",
            "\u001b[0m\u001b[31mERROR: No matching distribution found for graphiz\u001b[0m\u001b[31m\n",
            "\u001b[0m"
          ]
        }
      ],
      "source": [
        "!pip install ann_visualizer\n",
        "!pip install graphiz\n",
        "\n",
        "import pandas as pd\n",
        "from keras.models import Sequential\n",
        "from keras.layers import Dense\n",
        "from ann_visualizer.visualize import ann_viz"
      ]
    },
    {
      "cell_type": "code",
      "source": [
        "data = pd.read_csv(\"diabetes.csv\")\n",
        "data.info()"
      ],
      "metadata": {
        "colab": {
          "base_uri": "https://localhost:8080/"
        },
        "id": "Iv7Eiyd0rTra",
        "outputId": "bb359441-a562-4f9a-cb10-f25f9c142c97"
      },
      "execution_count": null,
      "outputs": [
        {
          "output_type": "stream",
          "name": "stdout",
          "text": [
            "<class 'pandas.core.frame.DataFrame'>\n",
            "RangeIndex: 768 entries, 0 to 767\n",
            "Data columns (total 9 columns):\n",
            " #   Column                    Non-Null Count  Dtype  \n",
            "---  ------                    --------------  -----  \n",
            " 0   Pregnancies               768 non-null    int64  \n",
            " 1   Glucose                   768 non-null    int64  \n",
            " 2   BloodPressure             768 non-null    int64  \n",
            " 3   SkinThickness             768 non-null    int64  \n",
            " 4   Insulin                   768 non-null    int64  \n",
            " 5   BMI                       768 non-null    float64\n",
            " 6   DiabetesPedigreeFunction  768 non-null    float64\n",
            " 7   Age                       768 non-null    int64  \n",
            " 8   Outcome                   768 non-null    int64  \n",
            "dtypes: float64(2), int64(7)\n",
            "memory usage: 54.1 KB\n"
          ]
        }
      ]
    },
    {
      "cell_type": "code",
      "source": [
        "data.columns"
      ],
      "metadata": {
        "colab": {
          "base_uri": "https://localhost:8080/"
        },
        "id": "OM2XwPhlrZil",
        "outputId": "a5e12b79-efb6-4290-bf99-27d41cf9a8d6"
      },
      "execution_count": null,
      "outputs": [
        {
          "output_type": "execute_result",
          "data": {
            "text/plain": [
              "Index(['Pregnancies', 'Glucose', 'BloodPressure', 'SkinThickness', 'Insulin',\n",
              "       'BMI', 'DiabetesPedigreeFunction', 'Age', 'Outcome'],\n",
              "      dtype='object')"
            ]
          },
          "metadata": {},
          "execution_count": 17
        }
      ]
    },
    {
      "cell_type": "code",
      "source": [
        "x = data.iloc[:,0:-1]\n",
        "y = data.iloc[:,8]"
      ],
      "metadata": {
        "id": "1Tg2TiH8rbPc"
      },
      "execution_count": null,
      "outputs": []
    },
    {
      "cell_type": "code",
      "source": [
        "model=Sequential()\n",
        "model.add(Dense(12, input_dim=8, activation = 'relu'))\n",
        "model.add(Dense(8, activation = 'relu'))\n",
        "model.add(Dense(1, activation = 'sigmoid'))\n",
        "model.compile(loss = 'binary_crossentropy', optimizer = 'adam', metrics = ['accuracy'])\n",
        "model.fit(x, y, epochs=100, batch_size = 10)"
      ],
      "metadata": {
        "colab": {
          "base_uri": "https://localhost:8080/"
        },
        "id": "eHhHI15VuKRY",
        "outputId": "36ac14fc-b221-4735-9bd5-f6fb562bcfec"
      },
      "execution_count": null,
      "outputs": [
        {
          "output_type": "stream",
          "name": "stdout",
          "text": [
            "Epoch 1/100\n",
            "77/77 [==============================] - 1s 1ms/step - loss: 2.3837 - accuracy: 0.4596\n",
            "Epoch 2/100\n",
            "77/77 [==============================] - 0s 1ms/step - loss: 0.9073 - accuracy: 0.5859\n",
            "Epoch 3/100\n",
            "77/77 [==============================] - 0s 1ms/step - loss: 0.7484 - accuracy: 0.6484\n",
            "Epoch 4/100\n",
            "77/77 [==============================] - 0s 1ms/step - loss: 0.7078 - accuracy: 0.6510\n",
            "Epoch 5/100\n",
            "77/77 [==============================] - 0s 1ms/step - loss: 0.6813 - accuracy: 0.6510\n",
            "Epoch 6/100\n",
            "77/77 [==============================] - 0s 1ms/step - loss: 0.6693 - accuracy: 0.6510\n",
            "Epoch 7/100\n",
            "77/77 [==============================] - 0s 1ms/step - loss: 0.6648 - accuracy: 0.6510\n",
            "Epoch 8/100\n",
            "77/77 [==============================] - 0s 1ms/step - loss: 0.6614 - accuracy: 0.6510\n",
            "Epoch 9/100\n",
            "77/77 [==============================] - 0s 1ms/step - loss: 0.6586 - accuracy: 0.6510\n",
            "Epoch 10/100\n",
            "77/77 [==============================] - 0s 1ms/step - loss: 0.6564 - accuracy: 0.6510\n",
            "Epoch 11/100\n",
            "77/77 [==============================] - 0s 1ms/step - loss: 0.6546 - accuracy: 0.6510\n",
            "Epoch 12/100\n",
            "77/77 [==============================] - 0s 1ms/step - loss: 0.6531 - accuracy: 0.6510\n",
            "Epoch 13/100\n",
            "77/77 [==============================] - 0s 1ms/step - loss: 0.6518 - accuracy: 0.6510\n",
            "Epoch 14/100\n",
            "77/77 [==============================] - 0s 1ms/step - loss: 0.6508 - accuracy: 0.6510\n",
            "Epoch 15/100\n",
            "77/77 [==============================] - 0s 1ms/step - loss: 0.6501 - accuracy: 0.6510\n",
            "Epoch 16/100\n",
            "77/77 [==============================] - 0s 1ms/step - loss: 0.6495 - accuracy: 0.6510\n",
            "Epoch 17/100\n",
            "77/77 [==============================] - 0s 1ms/step - loss: 0.6490 - accuracy: 0.6510\n",
            "Epoch 18/100\n",
            "77/77 [==============================] - 0s 1ms/step - loss: 0.6486 - accuracy: 0.6510\n",
            "Epoch 19/100\n",
            "77/77 [==============================] - 0s 1ms/step - loss: 0.6482 - accuracy: 0.6510\n",
            "Epoch 20/100\n",
            "77/77 [==============================] - 0s 1ms/step - loss: 0.6479 - accuracy: 0.6510\n",
            "Epoch 21/100\n",
            "77/77 [==============================] - 0s 1ms/step - loss: 0.6477 - accuracy: 0.6510\n",
            "Epoch 22/100\n",
            "77/77 [==============================] - 0s 1ms/step - loss: 0.6476 - accuracy: 0.6510\n",
            "Epoch 23/100\n",
            "77/77 [==============================] - 0s 1ms/step - loss: 0.6474 - accuracy: 0.6510\n",
            "Epoch 24/100\n",
            "77/77 [==============================] - 0s 1ms/step - loss: 0.6473 - accuracy: 0.6510\n",
            "Epoch 25/100\n",
            "77/77 [==============================] - 0s 1ms/step - loss: 0.6471 - accuracy: 0.6510\n",
            "Epoch 26/100\n",
            "77/77 [==============================] - 0s 1ms/step - loss: 0.6470 - accuracy: 0.6510\n",
            "Epoch 27/100\n",
            "77/77 [==============================] - 0s 1ms/step - loss: 0.6470 - accuracy: 0.6510\n",
            "Epoch 28/100\n",
            "77/77 [==============================] - 0s 1ms/step - loss: 0.6469 - accuracy: 0.6510\n",
            "Epoch 29/100\n",
            "77/77 [==============================] - 0s 1ms/step - loss: 0.6468 - accuracy: 0.6510\n",
            "Epoch 30/100\n",
            "77/77 [==============================] - 0s 1ms/step - loss: 0.6469 - accuracy: 0.6497\n",
            "Epoch 31/100\n",
            "77/77 [==============================] - 0s 1ms/step - loss: 0.6469 - accuracy: 0.6510\n",
            "Epoch 32/100\n",
            "77/77 [==============================] - 0s 1ms/step - loss: 0.6468 - accuracy: 0.6510\n",
            "Epoch 33/100\n",
            "77/77 [==============================] - 0s 1ms/step - loss: 0.6467 - accuracy: 0.6510\n",
            "Epoch 34/100\n",
            "77/77 [==============================] - 0s 1ms/step - loss: 0.6469 - accuracy: 0.6510\n",
            "Epoch 35/100\n",
            "77/77 [==============================] - 0s 1ms/step - loss: 0.6467 - accuracy: 0.6510\n",
            "Epoch 36/100\n",
            "77/77 [==============================] - 0s 1ms/step - loss: 0.6468 - accuracy: 0.6497\n",
            "Epoch 37/100\n",
            "77/77 [==============================] - 0s 1ms/step - loss: 0.6467 - accuracy: 0.6497\n",
            "Epoch 38/100\n",
            "77/77 [==============================] - 0s 1ms/step - loss: 0.6467 - accuracy: 0.6510\n",
            "Epoch 39/100\n",
            "77/77 [==============================] - 0s 1ms/step - loss: 0.6467 - accuracy: 0.6510\n",
            "Epoch 40/100\n",
            "77/77 [==============================] - 0s 1ms/step - loss: 0.6467 - accuracy: 0.6497\n",
            "Epoch 41/100\n",
            "77/77 [==============================] - 0s 1ms/step - loss: 0.6468 - accuracy: 0.6510\n",
            "Epoch 42/100\n",
            "77/77 [==============================] - 0s 1ms/step - loss: 0.6469 - accuracy: 0.6510\n",
            "Epoch 43/100\n",
            "77/77 [==============================] - 0s 1ms/step - loss: 0.6466 - accuracy: 0.6497\n",
            "Epoch 44/100\n",
            "77/77 [==============================] - 0s 2ms/step - loss: 0.6466 - accuracy: 0.6510\n",
            "Epoch 45/100\n",
            "77/77 [==============================] - 0s 2ms/step - loss: 0.6466 - accuracy: 0.6510\n",
            "Epoch 46/100\n",
            "77/77 [==============================] - 0s 2ms/step - loss: 0.6467 - accuracy: 0.6497\n",
            "Epoch 47/100\n",
            "77/77 [==============================] - 0s 2ms/step - loss: 0.6467 - accuracy: 0.6510\n",
            "Epoch 48/100\n",
            "77/77 [==============================] - 0s 2ms/step - loss: 0.6468 - accuracy: 0.6523\n",
            "Epoch 49/100\n",
            "77/77 [==============================] - 0s 2ms/step - loss: 0.6467 - accuracy: 0.6497\n",
            "Epoch 50/100\n",
            "77/77 [==============================] - 0s 2ms/step - loss: 0.6466 - accuracy: 0.6523\n",
            "Epoch 51/100\n",
            "77/77 [==============================] - 0s 2ms/step - loss: 0.6466 - accuracy: 0.6510\n",
            "Epoch 52/100\n",
            "77/77 [==============================] - 0s 2ms/step - loss: 0.6466 - accuracy: 0.6497\n",
            "Epoch 53/100\n",
            "77/77 [==============================] - 0s 2ms/step - loss: 0.6466 - accuracy: 0.6497\n",
            "Epoch 54/100\n",
            "77/77 [==============================] - 0s 2ms/step - loss: 0.6466 - accuracy: 0.6497\n",
            "Epoch 55/100\n",
            "77/77 [==============================] - 0s 2ms/step - loss: 0.6466 - accuracy: 0.6523\n",
            "Epoch 56/100\n",
            "77/77 [==============================] - 0s 2ms/step - loss: 0.6466 - accuracy: 0.6510\n",
            "Epoch 57/100\n",
            "77/77 [==============================] - 0s 2ms/step - loss: 0.6465 - accuracy: 0.6510\n",
            "Epoch 58/100\n",
            "77/77 [==============================] - 0s 2ms/step - loss: 0.6467 - accuracy: 0.6510\n",
            "Epoch 59/100\n",
            "77/77 [==============================] - 0s 1ms/step - loss: 0.6467 - accuracy: 0.6497\n",
            "Epoch 60/100\n",
            "77/77 [==============================] - 0s 2ms/step - loss: 0.6465 - accuracy: 0.6523\n",
            "Epoch 61/100\n",
            "77/77 [==============================] - 0s 2ms/step - loss: 0.6465 - accuracy: 0.6523\n",
            "Epoch 62/100\n",
            "77/77 [==============================] - 0s 2ms/step - loss: 0.6466 - accuracy: 0.6523\n",
            "Epoch 63/100\n",
            "77/77 [==============================] - 0s 2ms/step - loss: 0.6466 - accuracy: 0.6523\n",
            "Epoch 64/100\n",
            "77/77 [==============================] - 0s 2ms/step - loss: 0.6465 - accuracy: 0.6523\n",
            "Epoch 65/100\n",
            "77/77 [==============================] - 0s 1ms/step - loss: 0.6466 - accuracy: 0.6523\n",
            "Epoch 66/100\n",
            "77/77 [==============================] - 0s 1ms/step - loss: 0.6465 - accuracy: 0.6523\n",
            "Epoch 67/100\n",
            "77/77 [==============================] - 0s 1ms/step - loss: 0.6466 - accuracy: 0.6523\n",
            "Epoch 68/100\n",
            "77/77 [==============================] - 0s 1ms/step - loss: 0.6465 - accuracy: 0.6523\n",
            "Epoch 69/100\n",
            "77/77 [==============================] - 0s 1ms/step - loss: 0.6466 - accuracy: 0.6497\n",
            "Epoch 70/100\n",
            "77/77 [==============================] - 0s 1ms/step - loss: 0.6466 - accuracy: 0.6523\n",
            "Epoch 71/100\n",
            "77/77 [==============================] - 0s 1ms/step - loss: 0.6467 - accuracy: 0.6523\n",
            "Epoch 72/100\n",
            "77/77 [==============================] - 0s 1ms/step - loss: 0.6465 - accuracy: 0.6523\n",
            "Epoch 73/100\n",
            "77/77 [==============================] - 0s 1ms/step - loss: 0.6464 - accuracy: 0.6523\n",
            "Epoch 74/100\n",
            "77/77 [==============================] - 0s 1ms/step - loss: 0.6465 - accuracy: 0.6523\n",
            "Epoch 75/100\n",
            "77/77 [==============================] - 0s 1ms/step - loss: 0.6464 - accuracy: 0.6523\n",
            "Epoch 76/100\n",
            "77/77 [==============================] - 0s 1ms/step - loss: 0.6465 - accuracy: 0.6523\n",
            "Epoch 77/100\n",
            "77/77 [==============================] - 0s 1ms/step - loss: 0.6467 - accuracy: 0.6510\n",
            "Epoch 78/100\n",
            "77/77 [==============================] - 0s 1ms/step - loss: 0.6465 - accuracy: 0.6510\n",
            "Epoch 79/100\n",
            "77/77 [==============================] - 0s 1ms/step - loss: 0.6466 - accuracy: 0.6523\n",
            "Epoch 80/100\n",
            "77/77 [==============================] - 0s 1ms/step - loss: 0.6464 - accuracy: 0.6510\n",
            "Epoch 81/100\n",
            "77/77 [==============================] - 0s 1ms/step - loss: 0.6463 - accuracy: 0.6510\n",
            "Epoch 82/100\n",
            "77/77 [==============================] - 0s 1ms/step - loss: 0.6465 - accuracy: 0.6510\n",
            "Epoch 83/100\n",
            "77/77 [==============================] - 0s 1ms/step - loss: 0.6464 - accuracy: 0.6523\n",
            "Epoch 84/100\n",
            "77/77 [==============================] - 0s 1ms/step - loss: 0.6463 - accuracy: 0.6510\n",
            "Epoch 85/100\n",
            "77/77 [==============================] - 0s 1ms/step - loss: 0.6463 - accuracy: 0.6523\n",
            "Epoch 86/100\n",
            "77/77 [==============================] - 0s 1ms/step - loss: 0.6465 - accuracy: 0.6523\n",
            "Epoch 87/100\n",
            "77/77 [==============================] - 0s 1ms/step - loss: 0.6464 - accuracy: 0.6510\n",
            "Epoch 88/100\n",
            "77/77 [==============================] - 0s 1ms/step - loss: 0.6463 - accuracy: 0.6523\n",
            "Epoch 89/100\n",
            "77/77 [==============================] - 0s 1ms/step - loss: 0.6463 - accuracy: 0.6510\n",
            "Epoch 90/100\n",
            "77/77 [==============================] - 0s 1ms/step - loss: 0.6463 - accuracy: 0.6523\n",
            "Epoch 91/100\n",
            "77/77 [==============================] - 0s 1ms/step - loss: 0.6463 - accuracy: 0.6510\n",
            "Epoch 92/100\n",
            "77/77 [==============================] - 0s 1ms/step - loss: 0.6463 - accuracy: 0.6510\n",
            "Epoch 93/100\n",
            "77/77 [==============================] - 0s 1ms/step - loss: 0.6464 - accuracy: 0.6510\n",
            "Epoch 94/100\n",
            "77/77 [==============================] - 0s 1ms/step - loss: 0.6462 - accuracy: 0.6523\n",
            "Epoch 95/100\n",
            "77/77 [==============================] - 0s 1ms/step - loss: 0.6464 - accuracy: 0.6523\n",
            "Epoch 96/100\n",
            "77/77 [==============================] - 0s 1ms/step - loss: 0.6462 - accuracy: 0.6510\n",
            "Epoch 97/100\n",
            "77/77 [==============================] - 0s 1ms/step - loss: 0.6463 - accuracy: 0.6536\n",
            "Epoch 98/100\n",
            "77/77 [==============================] - 0s 1ms/step - loss: 0.6464 - accuracy: 0.6510\n",
            "Epoch 99/100\n",
            "77/77 [==============================] - 0s 1ms/step - loss: 0.6461 - accuracy: 0.6523\n",
            "Epoch 100/100\n",
            "77/77 [==============================] - 0s 1ms/step - loss: 0.6462 - accuracy: 0.6510\n"
          ]
        },
        {
          "output_type": "execute_result",
          "data": {
            "text/plain": [
              "<keras.src.callbacks.History at 0x7dc0ac591ea0>"
            ]
          },
          "metadata": {},
          "execution_count": 23
        }
      ]
    },
    {
      "cell_type": "code",
      "source": [
        "_,accuracy = model.evaluate(x, y)\n",
        "print(\"Accuracy is : %.2f\" % (accuracy *100))"
      ],
      "metadata": {
        "colab": {
          "base_uri": "https://localhost:8080/"
        },
        "id": "9TFFXvqiu9kF",
        "outputId": "255f5302-e65c-47c1-8213-31ea07c191fa"
      },
      "execution_count": null,
      "outputs": [
        {
          "output_type": "stream",
          "name": "stdout",
          "text": [
            "24/24 [==============================] - 0s 1ms/step - loss: 0.6460 - accuracy: 0.6523\n",
            "Accuracy is : 65.23\n"
          ]
        }
      ]
    },
    {
      "cell_type": "code",
      "source": [
        "ann_viz(model, view = True, filename = \"Visualizer.pdf\", title=\"ANN\")"
      ],
      "metadata": {
        "colab": {
          "base_uri": "https://localhost:8080/",
          "height": 304
        },
        "id": "guVMmEU6waYx",
        "outputId": "9dfa5abc-c8bb-40de-87f8-4272172c0959"
      },
      "execution_count": null,
      "outputs": [
        {
          "output_type": "error",
          "ename": "AttributeError",
          "evalue": "ignored",
          "traceback": [
            "\u001b[0;31m---------------------------------------------------------------------------\u001b[0m",
            "\u001b[0;31mAttributeError\u001b[0m                            Traceback (most recent call last)",
            "\u001b[0;32m<ipython-input-25-f38777a15203>\u001b[0m in \u001b[0;36m<cell line: 1>\u001b[0;34m()\u001b[0m\n\u001b[0;32m----> 1\u001b[0;31m \u001b[0mann_viz\u001b[0m\u001b[0;34m(\u001b[0m\u001b[0mmodel\u001b[0m\u001b[0;34m,\u001b[0m \u001b[0mview\u001b[0m \u001b[0;34m=\u001b[0m \u001b[0;32mTrue\u001b[0m\u001b[0;34m,\u001b[0m \u001b[0mfilename\u001b[0m \u001b[0;34m=\u001b[0m \u001b[0;34m\"Visualizer.pdf\"\u001b[0m\u001b[0;34m,\u001b[0m \u001b[0mtitle\u001b[0m\u001b[0;34m=\u001b[0m\u001b[0;34m\"ANN\"\u001b[0m\u001b[0;34m)\u001b[0m\u001b[0;34m\u001b[0m\u001b[0;34m\u001b[0m\u001b[0m\n\u001b[0m",
            "\u001b[0;32m/usr/local/lib/python3.10/dist-packages/ann_visualizer/visualize.py\u001b[0m in \u001b[0;36mann_viz\u001b[0;34m(model, view, filename, title)\u001b[0m\n\u001b[1;32m     42\u001b[0m             \u001b[0minput_layer\u001b[0m \u001b[0;34m=\u001b[0m \u001b[0mint\u001b[0m\u001b[0;34m(\u001b[0m\u001b[0mstr\u001b[0m\u001b[0;34m(\u001b[0m\u001b[0mlayer\u001b[0m\u001b[0;34m.\u001b[0m\u001b[0minput_shape\u001b[0m\u001b[0;34m)\u001b[0m\u001b[0;34m.\u001b[0m\u001b[0msplit\u001b[0m\u001b[0;34m(\u001b[0m\u001b[0;34m\",\"\u001b[0m\u001b[0;34m)\u001b[0m\u001b[0;34m[\u001b[0m\u001b[0;36m1\u001b[0m\u001b[0;34m]\u001b[0m\u001b[0;34m[\u001b[0m\u001b[0;36m1\u001b[0m\u001b[0;34m:\u001b[0m\u001b[0;34m-\u001b[0m\u001b[0;36m1\u001b[0m\u001b[0;34m]\u001b[0m\u001b[0;34m)\u001b[0m\u001b[0;34m;\u001b[0m\u001b[0;34m\u001b[0m\u001b[0;34m\u001b[0m\u001b[0m\n\u001b[1;32m     43\u001b[0m             \u001b[0mhidden_layers_nr\u001b[0m \u001b[0;34m+=\u001b[0m \u001b[0;36m1\u001b[0m\u001b[0;34m;\u001b[0m\u001b[0;34m\u001b[0m\u001b[0;34m\u001b[0m\u001b[0m\n\u001b[0;32m---> 44\u001b[0;31m             \u001b[0;32mif\u001b[0m \u001b[0;34m(\u001b[0m\u001b[0mtype\u001b[0m\u001b[0;34m(\u001b[0m\u001b[0mlayer\u001b[0m\u001b[0;34m)\u001b[0m \u001b[0;34m==\u001b[0m \u001b[0mkeras\u001b[0m\u001b[0;34m.\u001b[0m\u001b[0mlayers\u001b[0m\u001b[0;34m.\u001b[0m\u001b[0mcore\u001b[0m\u001b[0;34m.\u001b[0m\u001b[0mDense\u001b[0m\u001b[0;34m)\u001b[0m\u001b[0;34m:\u001b[0m\u001b[0;34m\u001b[0m\u001b[0;34m\u001b[0m\u001b[0m\n\u001b[0m\u001b[1;32m     45\u001b[0m                 \u001b[0mhidden_layers\u001b[0m\u001b[0;34m.\u001b[0m\u001b[0mappend\u001b[0m\u001b[0;34m(\u001b[0m\u001b[0mint\u001b[0m\u001b[0;34m(\u001b[0m\u001b[0mstr\u001b[0m\u001b[0;34m(\u001b[0m\u001b[0mlayer\u001b[0m\u001b[0;34m.\u001b[0m\u001b[0moutput_shape\u001b[0m\u001b[0;34m)\u001b[0m\u001b[0;34m.\u001b[0m\u001b[0msplit\u001b[0m\u001b[0;34m(\u001b[0m\u001b[0;34m\",\"\u001b[0m\u001b[0;34m)\u001b[0m\u001b[0;34m[\u001b[0m\u001b[0;36m1\u001b[0m\u001b[0;34m]\u001b[0m\u001b[0;34m[\u001b[0m\u001b[0;36m1\u001b[0m\u001b[0;34m:\u001b[0m\u001b[0;34m-\u001b[0m\u001b[0;36m1\u001b[0m\u001b[0;34m]\u001b[0m\u001b[0;34m)\u001b[0m\u001b[0;34m)\u001b[0m\u001b[0;34m;\u001b[0m\u001b[0;34m\u001b[0m\u001b[0;34m\u001b[0m\u001b[0m\n\u001b[1;32m     46\u001b[0m                 \u001b[0mlayer_types\u001b[0m\u001b[0;34m.\u001b[0m\u001b[0mappend\u001b[0m\u001b[0;34m(\u001b[0m\u001b[0;34m\"Dense\"\u001b[0m\u001b[0;34m)\u001b[0m\u001b[0;34m;\u001b[0m\u001b[0;34m\u001b[0m\u001b[0;34m\u001b[0m\u001b[0m\n",
            "\u001b[0;31mAttributeError\u001b[0m: module 'keras.layers' has no attribute 'core'"
          ]
        }
      ]
    },
    {
      "cell_type": "code",
      "source": [],
      "metadata": {
        "id": "P9QKjezxxTQD"
      },
      "execution_count": null,
      "outputs": []
    }
  ]
}